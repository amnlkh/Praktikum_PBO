{
  "nbformat": 4,
  "nbformat_minor": 0,
  "metadata": {
    "colab": {
      "provenance": [],
      "authorship_tag": "ABX9TyPKLGI/yvqOpAvAU/R4MPur",
      "include_colab_link": true
    },
    "kernelspec": {
      "name": "python3",
      "display_name": "Python 3"
    },
    "language_info": {
      "name": "python"
    }
  },
  "cells": [
    {
      "cell_type": "markdown",
      "metadata": {
        "id": "view-in-github",
        "colab_type": "text"
      },
      "source": [
        "<a href=\"https://colab.research.google.com/github/amnlkh/Praktikum_PBO/blob/main/pewarisan1.ipynb\" target=\"_parent\"><img src=\"https://colab.research.google.com/assets/colab-badge.svg\" alt=\"Open In Colab\"/></a>"
      ]
    },
    {
      "cell_type": "code",
      "execution_count": 1,
      "metadata": {
        "colab": {
          "base_uri": "https://localhost:8080/"
        },
        "id": "RJov-CVW1SWL",
        "outputId": "e2f6d76f-15e1-4e12-a50e-73cf799febc2"
      },
      "outputs": [
        {
          "output_type": "stream",
          "name": "stdout",
          "text": [
            "Nilai a: 10\n",
            "Nilai b: 20\n"
          ]
        }
      ],
      "source": [
        "class A:\n",
        " def _init_(self):\n",
        "   self ._a = 0\n",
        " def setA(self, a):\n",
        "   self ._a = a\n",
        " def getA(self):\n",
        "   return self._a\n",
        "\n",
        "#mendefinisikan kelas anak\n",
        "class B(A):\n",
        " def _init_(self):\n",
        "   self ._b = 0\n",
        " def setB(self, b):\n",
        "   self ._b = b\n",
        " def getB(self):\n",
        "   return self._b\n",
        "\n",
        "#membuat objek\n",
        "obj = B()\n",
        "\n",
        "#memanggil method milik kelas induk\n",
        "obj.setA(10)\n",
        "print(\"Nilai a: %d\" % obj.getA())\n",
        "\n",
        "#memanggil method milik dirinya sendiri\n",
        "obj.setB(20)\n",
        "print(\"Nilai b: %d\" % obj.getB())"
      ]
    }
  ]
}