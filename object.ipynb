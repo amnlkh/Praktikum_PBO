{
  "nbformat": 4,
  "nbformat_minor": 0,
  "metadata": {
    "colab": {
      "provenance": [],
      "authorship_tag": "ABX9TyNjfjoAlyJLrx8uDQXGPCDg",
      "include_colab_link": true
    },
    "kernelspec": {
      "name": "python3",
      "display_name": "Python 3"
    },
    "language_info": {
      "name": "python"
    }
  },
  "cells": [
    {
      "cell_type": "markdown",
      "metadata": {
        "id": "view-in-github",
        "colab_type": "text"
      },
      "source": [
        "<a href=\"https://colab.research.google.com/github/amnlkh/Praktikum_PBO/blob/main/object.ipynb\" target=\"_parent\"><img src=\"https://colab.research.google.com/assets/colab-badge.svg\" alt=\"Open In Colab\"/></a>"
      ]
    },
    {
      "cell_type": "code",
      "execution_count": null,
      "metadata": {
        "colab": {
          "base_uri": "https://localhost:8080/"
        },
        "id": "fMUaT22Ytbbz",
        "outputId": "30a68abc-f1a2-4481-b64d-5e209c41ccc3"
      },
      "outputs": [
        {
          "output_type": "stream",
          "name": "stdout",
          "text": [
            "Buddy\n",
            "5\n",
            "Canine\n",
            "Melky\n",
            "AB\n",
            "Melky\n",
            "AB\n"
          ]
        }
      ],
      "source": [
        "class Dog:\n",
        "    species = \"Canine\"  # Class attribute\n",
        "\n",
        "    def __init__(self, name, age):\n",
        "        self.name = name  # Instance attribute\n",
        "        self.age = age  # Instance attribute\n",
        "\n",
        "# Creating an object of the Dog class\n",
        "dog1 = Dog(\"Buddy\", 3)\n",
        "dog2 = Dog(\"Moy\", 5)\n",
        "print(dog1.name)\n",
        "print(dog2.age)\n",
        "print(dog2.species)\n",
        "\n",
        "dog1.name= \"Melky\"\n",
        "print(dog1.name)\n",
        "dog1.species=\"AB\"\n",
        "print(dog1.species)\n",
        "\n",
        "print(dog1.name)\n",
        "print(dog1.species)\n"
      ]
    }
  ]
}